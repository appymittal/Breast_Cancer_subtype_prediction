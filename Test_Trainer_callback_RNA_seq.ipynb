{
 "cells": [
  {
   "cell_type": "code",
   "execution_count": 1,
   "id": "9f0ff37b-f77e-4c1f-8184-98a7496ef2e9",
   "metadata": {
    "colab": {
     "base_uri": "https://localhost:8080/"
    },
    "id": "9f0ff37b-f77e-4c1f-8184-98a7496ef2e9",
    "outputId": "b0ada301-f853-406d-c687-886668c2fbe5"
   },
   "source": [
    "import torchvision\n",
    "print(torchvision.__version__)\n",
    "%matplotlib inline"
   ],
   "outputs": []
  },
  {
   "cell_type": "code",
   "execution_count": 2,
   "id": "i2Tn00cc26Np",
   "metadata": {
    "colab": {
     "base_uri": "https://localhost:8080/"
    },
    "id": "i2Tn00cc26Np",
    "outputId": "b5029c2a-ea8d-40d2-eb52-67bbd8a4f8d6"
   },
   "source": [
    "import os, sys\n",
    "from google.colab import drive\n",
    "drive.mount('/content/drive') # only run when creating notebook for the first time\n",
    "sys.path.append('/content/drive/MyDrive/final_project')"
   ],
   "outputs": []
  },
  {
   "cell_type": "code",
   "execution_count": 3,
   "id": "oZrpDyDY3FXW",
   "metadata": {
    "colab": {
     "base_uri": "https://localhost:8080/"
    },
    "id": "oZrpDyDY3FXW",
    "outputId": "12b3a032-29c4-4b0a-8708-039fdb48bd24"
   },
   "source": [
    "# TODO: Fill in the Google Drive path where you uploaded assignment1\n",
    "# Example: If you create a Fall2023 folder and put all the files under A1 folder, then 'Fall2023/A1'\n",
    "GOOGLE_DRIVE_PATH_POST_MYDRIVE = 'final_project'\n",
    "GOOGLE_DRIVE_PATH = os.path.join('/content', 'drive', 'MyDrive', GOOGLE_DRIVE_PATH_POST_MYDRIVE)\n",
    "print(os.listdir(GOOGLE_DRIVE_PATH))"
   ],
   "outputs": []
  },
  {
   "cell_type": "code",
   "execution_count": 4,
   "id": "__Syemw7Ufx-",
   "metadata": {
    "colab": {
     "base_uri": "https://localhost:8080/"
    },
    "id": "__Syemw7Ufx-",
    "outputId": "df7c35e4-9654-47de-cb19-38494798ce29"
   },
   "source": [
    "import torch\n",
    "device = torch.device(\"cuda\" if torch.cuda.is_available() else \"cpu\")\n",
    "device"
   ],
   "outputs": []
  },
  {
   "cell_type": "code",
   "execution_count": 5,
   "id": "20b574f0-38db-461f-8978-5c8fd19a9017",
   "metadata": {
    "id": "20b574f0-38db-461f-8978-5c8fd19a9017"
   },
   "source": [
    "from utils import Config\n",
    "from data_loader import MultiOmicsDataset, create_dataloaders"
   ],
   "outputs": []
  },
  {
   "cell_type": "code",
   "execution_count": 6,
   "id": "404cc138-0bad-4353-9ca3-4bb0ff89e007",
   "metadata": {
    "id": "404cc138-0bad-4353-9ca3-4bb0ff89e007"
   },
   "source": [
    "# # Reload all modules every time before executing code\n",
    "%load_ext autoreload\n",
    "%autoreload 2"
   ],
   "outputs": []
  },
  {
   "cell_type": "markdown",
   "id": "32f6a115-4f1a-4420-afd7-44cd6b2f145c",
   "metadata": {
    "id": "32f6a115-4f1a-4420-afd7-44cd6b2f145c"
   },
   "source": [
    "### 7. Run pytest"
   ]
  },
  {
   "cell_type": "code",
   "execution_count": 7,
   "id": "d16e7035-fbd1-40ad-bb0e-d06d4c9b7bef",
   "metadata": {
    "id": "d16e7035-fbd1-40ad-bb0e-d06d4c9b7bef"
   },
   "source": [
    "# %%bash\n",
    "# pytest -v"
   ],
   "outputs": []
  },
  {
   "cell_type": "code",
   "execution_count": 8,
   "id": "bdeabf39-0a9e-4455-b3f2-e03566438a23",
   "metadata": {
    "id": "bdeabf39-0a9e-4455-b3f2-e03566438a23"
   },
   "source": [
    "import json\n",
    "from pathlib import Path\n",
    "from sklearn.metrics import classification_report, accuracy_score\n",
    "import torch"
   ],
   "outputs": []
  },
  {
   "cell_type": "code",
   "execution_count": 9,
   "id": "5553defd-dcfa-4e5c-9728-65363ac6b417",
   "metadata": {
    "id": "5553defd-dcfa-4e5c-9728-65363ac6b417"
   },
   "source": [
    "from utils import Config\n",
    "from data_loader import MultiOmicsDataset, create_dataloaders\n",
    "from models import MultiOmicsClassifier, SingleOmicsClassifier\n",
    "from trainers import BaseTrainer\n",
    "from losses import MultiOmicsLoss, RNASeqLoss"
   ],
   "outputs": []
  },
  {
   "cell_type": "code",
   "execution_count": 10,
   "id": "PjNJ-IjxBWFf",
   "metadata": {
    "id": "PjNJ-IjxBWFf"
   },
   "source": [
    "from trainers import CallbackTrainer\n",
    "from callbacks import LossRecorderCallback, TSNERecorderCallback\n",
    "from callbacks import AccuracyRecorderCallback\n",
    "from callbacks import AttentionLoggerCallback\n",
    "from utils import plot_tsne, plot_loss\n",
    "\n",
    "def extract_latent(outputs):\n",
    "    \"\"\"Example: Extract latent representation from your specific model outputs\"\"\"\n",
    "    return outputs['latent_rep']  # Replace with your actual latent key\n",
    "    # Or if using concatenated features:\n",
    "    # return torch.cat([outputs['mirna_latent'], outputs['rna_latent']], dim=1)"
   ],
   "outputs": []
  },
  {
   "cell_type": "code",
   "execution_count": 11,
   "id": "29751203-8d38-4875-9734-71c05178671c",
   "metadata": {
    "id": "29751203-8d38-4875-9734-71c05178671c"
   },
   "source": [
    "def get_training_parameters(trainer, include_model_info=False, include_optimizer_state=False):\n",
    "    \"\"\"Extracts all relevant training parameters in a structured dictionary.\n",
    "\n",
    "    Args:\n",
    "        trainer: BaseTrainer instance\n",
    "        include_model_info: Whether to include model architecture details\n",
    "        include_optimizer_state: Whether to include optimizer state details\n",
    "\n",
    "    Returns:\n",
    "        Dictionary containing all training parameters\n",
    "    \"\"\"\n",
    "    params = {\n",
    "        \"training\": {\n",
    "            \"device\": str(trainer.device),\n",
    "        },\n",
    "        \"loss\": {\n",
    "            \"type\": type(trainer.loss_fn).__name__,\n",
    "            \"beta\": getattr(trainer.loss_fn, 'target_beta', None),\n",
    "            \"use_focal\": getattr(trainer.loss_fn, 'use_focal', None),\n",
    "            \"focal_gamma\": getattr(trainer.loss_fn, 'focal_gamma', None),\n",
    "            \"label_smoothing\": getattr(trainer.loss_fn, 'label_smoothing', None),\n",
    "            \"kl_epsilon\": getattr(trainer.loss_fn, 'kl_epsilon', None)\n",
    "        },\n",
    "        \"optimizer\": {\n",
    "            \"type\": type(trainer.optimizer).__name__,\n",
    "            \"lr\": trainer.optimizer.param_groups[0]['lr'],\n",
    "            \"betas\": trainer.optimizer.param_groups[0].get('betas', None),\n",
    "            \"eps\": trainer.optimizer.param_groups[0].get('eps', None),\n",
    "            \"weight_decay\": trainer.optimizer.param_groups[0].get('weight_decay', None)\n",
    "        }\n",
    "    }\n",
    "\n",
    "    if include_model_info:\n",
    "        params[\"model\"] = {\n",
    "            \"type\": type(trainer.model).__name__,\n",
    "            \"total_parameters\": sum(p.numel() for p in trainer.model.parameters()),\n",
    "            \"trainable_parameters\": sum(p.numel() for p in trainer.model.parameters()\n",
    "                                      if p.requires_grad),\n",
    "            \"architecture\": str(trainer.model)  # This shows the model structure\n",
    "        }\n",
    "\n",
    "    if include_optimizer_state:\n",
    "        params[\"optimizer\"][\"state\"] = {\n",
    "            \"momentum_buffer\": any('momentum_buffer' in p for p in trainer.optimizer.state.values())\n",
    "        }\n",
    "\n",
    "\n",
    "    return params"
   ],
   "outputs": []
  },
  {
   "cell_type": "markdown",
   "id": "fZyMFLC4wXCn",
   "metadata": {
    "id": "fZyMFLC4wXCn"
   },
   "source": [
    "# RNA-seq Only Models"
   ]
  },
  {
   "cell_type": "code",
   "execution_count": 12,
   "id": "cdae0a55-4913-441f-b0d8-1895dd5ab2a2",
   "metadata": {
    "colab": {
     "base_uri": "https://localhost:8080/"
    },
    "id": "cdae0a55-4913-441f-b0d8-1895dd5ab2a2",
    "outputId": "7238ffb1-d7d9-4a79-dcf8-f9bad6e81948"
   },
   "source": [
    "config = Config.from_yaml(\"/content/drive/MyDrive/final_project/configs/data_rna_config.yaml\")\n",
    "\n",
    "dataset = MultiOmicsDataset(config)\n",
    "dataloaders = create_dataloaders(dataset, config)"
   ],
   "outputs": []
  },
  {
   "cell_type": "code",
   "execution_count": 13,
   "id": "B1I9IBl8Y7Xc",
   "metadata": {
    "id": "B1I9IBl8Y7Xc"
   },
   "source": [
    "#Apoorva\n",
    "rna_exp_dim = 13054\n",
    "latent_dim = 16\n",
    "num_classes = 5\n",
    "\n",
    "# Instantiate model\n",
    "singleomics_model = SingleOmicsClassifier(\n",
    "    rna_exp_dim=rna_exp_dim,\n",
    "    latent_dim=latent_dim,\n",
    "    num_classes=num_classes\n",
    ")"
   ],
   "outputs": []
  },
  {
   "cell_type": "code",
   "execution_count": 14,
   "id": "ycPEoPS3wgXC",
   "metadata": {
    "colab": {
     "base_uri": "https://localhost:8080/"
    },
    "id": "ycPEoPS3wgXC",
    "outputId": "6e887538-a8f5-4cd3-c461-1fdadaa4cb1c"
   },
   "source": [
    "trainer = BaseTrainer(\n",
    "    model=singleomics_model,\n",
    "    optimizer=torch.optim.Adam(singleomics_model.parameters(), lr=1e-3),\n",
    "    loss_fn=RNASeqLoss(),\n",
    "    device=device\n",
    ")\n",
    "\n",
    "trainer.fit(train_loader=dataloaders['train'], val_loader=dataloaders['val'], epochs=10)"
   ],
   "outputs": []
  },
  {
   "cell_type": "code",
   "execution_count": 15,
   "id": "cQOKxTI5NDEB",
   "metadata": {
    "colab": {
     "base_uri": "https://localhost:8080/"
    },
    "id": "cQOKxTI5NDEB",
    "outputId": "1d7bc1a8-8596-4336-c008-b0db7ff32b79"
   },
   "source": [
    "preds, targets = trainer.predict(dataloaders[\"test\"])\n",
    "\n",
    "# Compute accuracy\n",
    "acc = accuracy_score(targets.numpy(), preds.numpy())\n",
    "print(f\"✅ Test Accuracy: {acc:.4f}\")"
   ],
   "outputs": []
  },
  {
   "cell_type": "code",
   "execution_count": 16,
   "id": "-E19O8tUNfIz",
   "metadata": {
    "colab": {
     "base_uri": "https://localhost:8080/"
    },
    "id": "-E19O8tUNfIz",
    "outputId": "bc403230-22bf-4442-a50d-61220de4774e"
   },
   "source": [
    "print(classification_report(targets.numpy(), preds.numpy()))\n",
    "\n",
    "params = get_training_parameters(trainer)\n",
    "print(json.dumps(params, indent=4))"
   ],
   "outputs": []
  },
  {
   "cell_type": "code",
   "execution_count": 17,
   "id": "py5rGzvLS2e-",
   "metadata": {
    "colab": {
     "base_uri": "https://localhost:8080/"
    },
    "id": "py5rGzvLS2e-",
    "outputId": "282b9b7f-9a98-4b6b-d51b-581158ba4784"
   },
   "source": [
    "model_no = 0\n",
    "loss_fn = RNASeqLoss(\n",
    "    beta=0.25,               # Target KL weight\n",
    "    # annealing_steps=5000,   # Total steps to anneal over\n",
    "    # use_focal=True,\n",
    "    # focal_gamma=1,\n",
    "    # label_smoothing=0.1,\n",
    "    # class_weights=None # or torch.tensor([...], device=\"cuda\")\n",
    ")\n",
    "\n",
    "rna_exp_dim = 13054\n",
    "latent_dim = 32\n",
    "num_classes = 5\n",
    "\n",
    "# Instantiate model\n",
    "singleomics_model = SingleOmicsClassifier(\n",
    "    rna_exp_dim=rna_exp_dim,\n",
    "    latent_dim=latent_dim,\n",
    "    num_classes=num_classes\n",
    ")\n",
    "\n",
    "\n",
    "\n",
    "loss_callback = LossRecorderCallback(save_path=GOOGLE_DRIVE_PATH + \"/logs/rna_seq/loss_history_{0}.json\".format(model_no))\n",
    "tsne_callback = TSNERecorderCallback(\n",
    "    val_loader=dataloaders['val'],  # Your validation DataLoader\n",
    "    device=device,\n",
    "    save_path=GOOGLE_DRIVE_PATH + \"/logs/rna_seq/tsne_results_{0}.pkl\".format(model_no)  # Matches your plot_tsne() default\n",
    ")\n",
    "\n",
    "trainer_cb = CallbackTrainer(\n",
    "    model=singleomics_model,\n",
    "    optimizer=torch.optim.AdamW(singleomics_model.parameters(), lr=2e-4, weight_decay=0.01),\n",
    "    loss_fn=loss_fn,\n",
    "    device=device,\n",
    "    callbacks=[loss_callback, tsne_callback]\n",
    ")\n",
    "\n",
    "trainer_cb.fit(train_loader=dataloaders['train'], val_loader=dataloaders['val'], epochs=50)"
   ],
   "outputs": []
  },
  {
   "cell_type": "code",
   "execution_count": 18,
   "id": "b303187d-64bc-4b5e-a8bd-92dc74e32fb8",
   "metadata": {
    "colab": {
     "base_uri": "https://localhost:8080/"
    },
    "id": "b303187d-64bc-4b5e-a8bd-92dc74e32fb8",
    "outputId": "4dd11933-c732-4eec-a744-61f87ca2bab4"
   },
   "source": [
    "preds, targets = trainer_cb.predict(dataloaders[\"test\"])\n",
    "acc = accuracy_score(targets.numpy(), preds.numpy())\n",
    "print(f\"✅ Test Accuracy: {acc:.4f}\")\n",
    "\n",
    "print(classification_report(targets.numpy(), preds.numpy()))\n",
    "params = get_training_parameters(trainer_cb)\n",
    "\n",
    "print(json.dumps(params, indent=4))"
   ],
   "outputs": []
  },
  {
   "cell_type": "code",
   "execution_count": 19,
   "id": "a19990d8-f021-47a5-8660-cd04d5d8aa84",
   "metadata": {
    "colab": {
     "base_uri": "https://localhost:8080/",
     "height": 645
    },
    "id": "a19990d8-f021-47a5-8660-cd04d5d8aa84",
    "outputId": "333e5803-280d-4da5-a5f0-406288028dab"
   },
   "source": [
    "plot_tsne(tsne_path=GOOGLE_DRIVE_PATH + \"/logs/rna_seq/tsne_results_{0}.pkl\".format(model_no), epochs=[1, 10, 20, 30, 40, 50], figsize=(4,3))"
   ],
   "outputs": []
  },
  {
   "cell_type": "code",
   "execution_count": 20,
   "id": "1cd1ed2d-360b-4983-9a6f-d1c49d4fcecc",
   "metadata": {
    "colab": {
     "base_uri": "https://localhost:8080/",
     "height": 407
    },
    "id": "1cd1ed2d-360b-4983-9a6f-d1c49d4fcecc",
    "outputId": "97d7a62d-0f65-4aaf-a553-aae3a17c4bd3"
   },
   "source": [
    "plot_loss(loss_path=GOOGLE_DRIVE_PATH + \"/logs/rna_seq/loss_history_{0}.json\".format(model_no), figsize=(8, 4))"
   ],
   "outputs": []
  },
  {
   "cell_type": "code",
   "execution_count": 21,
   "id": "905da307-c81e-4028-b26d-49c806848d34",
   "metadata": {
    "id": "905da307-c81e-4028-b26d-49c806848d34"
   },
   "source": [
    "# for name, param in multiomics_model.named_parameters():\n",
    "#     print(name, param.grad is not None)"
   ],
   "outputs": []
  },
  {
   "cell_type": "code",
   "execution_count": 22,
   "id": "66cc0bb6-e334-432a-87a8-2b056d530949",
   "metadata": {
    "colab": {
     "base_uri": "https://localhost:8080/"
    },
    "id": "66cc0bb6-e334-432a-87a8-2b056d530949",
    "outputId": "855d4362-ab49-4911-cc6f-33459f2a74b8"
   },
   "source": [
    "model_no=1\n",
    "loss_fn = RNASeqLoss(\n",
    "    beta=0.1,               # Target KL weight\n",
    "    annealing_steps=5000,   # Total steps to anneal over\n",
    "    use_focal=True,\n",
    "    focal_gamma=1,\n",
    "    label_smoothing=0.1,\n",
    "    class_weights=torch.tensor([1.0, 2.5, 1.0, 1.0, 1.5], device=device) # or torch.tensor([...], device=\"cuda\")\n",
    ")\n",
    "\n",
    "\n",
    "rna_exp_dim = 13054\n",
    "latent_dim = 32\n",
    "num_classes = 5\n",
    "\n",
    "# Instantiate model\n",
    "singleomics_model = SingleOmicsClassifier(\n",
    "    rna_exp_dim=rna_exp_dim,\n",
    "    latent_dim=latent_dim,\n",
    "    num_classes=num_classes\n",
    ")\n",
    "\n",
    "\n",
    "\n",
    "loss_callback = LossRecorderCallback(save_path=GOOGLE_DRIVE_PATH + \"/logs/rna_seq/loss_history_{0}.json\".format(model_no))\n",
    "tsne_callback = TSNERecorderCallback(\n",
    "    val_loader=dataloaders['val'],  # Your validation DataLoader\n",
    "    device=device,\n",
    "    save_path=GOOGLE_DRIVE_PATH + \"/logs/rna_seq/tsne_results_{0}.pkl\".format(model_no)  # Matches your plot_tsne() default\n",
    ")\n",
    "\n",
    "trainer_cb = CallbackTrainer(\n",
    "    model=singleomics_model,\n",
    "    optimizer=torch.optim.Adam(singleomics_model.parameters(), lr=2e-4),\n",
    "    loss_fn=loss_fn,\n",
    "    device=device,\n",
    "    callbacks=[loss_callback, tsne_callback],\n",
    "    seed=42\n",
    ")\n",
    "\n",
    "trainer_cb.fit(train_loader=dataloaders['train'], val_loader=dataloaders['val'], epochs=50)"
   ],
   "outputs": []
  },
  {
   "cell_type": "code",
   "execution_count": 23,
   "id": "703c0d70-55c2-480d-8daa-738a2c85538d",
   "metadata": {
    "colab": {
     "base_uri": "https://localhost:8080/"
    },
    "id": "703c0d70-55c2-480d-8daa-738a2c85538d",
    "outputId": "9cf29b17-9eb6-46f3-ef0a-a5eb653c95de"
   },
   "source": [
    "preds, targets = trainer_cb.predict(dataloaders[\"test\"])\n",
    "acc = accuracy_score(targets.numpy(), preds.numpy())\n",
    "print(f\"✅ Test Accuracy: {acc:.4f}\")\n",
    "\n",
    "print(classification_report(targets.numpy(), preds.numpy()))\n",
    "params = get_training_parameters(trainer_cb)\n",
    "\n",
    "print(json.dumps(params, indent=4))"
   ],
   "outputs": []
  },
  {
   "cell_type": "code",
   "execution_count": 24,
   "id": "87d54924-8ae7-48dd-9fab-24b18ae77f0b",
   "metadata": {
    "colab": {
     "base_uri": "https://localhost:8080/",
     "height": 643
    },
    "id": "87d54924-8ae7-48dd-9fab-24b18ae77f0b",
    "outputId": "cefc5443-04f6-499d-a9d1-6c6ddcf20952"
   },
   "source": [
    "plot_tsne(tsne_path=GOOGLE_DRIVE_PATH + \"/logs/rna_seq/tsne_results_{0}.pkl\".format(model_no), epochs=[1, 10, 20, 30, 40, 50], cols=3, figsize=(4, 3))"
   ],
   "outputs": []
  },
  {
   "cell_type": "code",
   "execution_count": 25,
   "id": "83151a52-2296-44b4-92cb-acbcfad15502",
   "metadata": {
    "colab": {
     "base_uri": "https://localhost:8080/",
     "height": 407
    },
    "id": "83151a52-2296-44b4-92cb-acbcfad15502",
    "outputId": "e47666c5-1d45-404d-8523-0b822dd756fb"
   },
   "source": [
    "plot_loss(loss_path=GOOGLE_DRIVE_PATH + \"/logs/rna_seq/loss_history_{0}.json\".format(model_no), figsize=(6, 4))"
   ],
   "outputs": []
  },
  {
   "cell_type": "code",
   "execution_count": 26,
   "id": "UiI2oKxvL9JH",
   "metadata": {
    "colab": {
     "base_uri": "https://localhost:8080/"
    },
    "id": "UiI2oKxvL9JH",
    "outputId": "aa215c69-773d-46dd-a28a-f2bfcbd93849"
   },
   "source": [
    "model_no=2\n",
    "loss_fn = RNASeqLoss(\n",
    "    beta=0.25,               # Target KL weight\n",
    "    # annealing_steps=5000,   # Total steps to anneal over\n",
    "    use_focal=True,\n",
    "    focal_gamma=2.5,\n",
    "    label_smoothing=0,\n",
    "    class_weights=torch.tensor([1.0, 1.0, 1.0, 1.5, 2.5], device=device) # or torch.tensor([...], device=\"cuda\")\n",
    ")\n",
    "\n",
    "rna_exp_dim = 13054\n",
    "latent_dim = 32\n",
    "num_classes = 5\n",
    "\n",
    "# Instantiate model\n",
    "singleomics_model = SingleOmicsClassifier(\n",
    "    rna_exp_dim=rna_exp_dim,\n",
    "    latent_dim=latent_dim,\n",
    "    num_classes=num_classes\n",
    ")\n",
    "\n",
    "\n",
    "\n",
    "\n",
    "loss_callback = LossRecorderCallback(save_path=GOOGLE_DRIVE_PATH + \"/logs/rna_seq/loss_history_{0}.json\".format(model_no))\n",
    "acc_callback = AccuracyRecorderCallback(save_path=Path(GOOGLE_DRIVE_PATH + \"/logs/rna_seq/accuracy_history_{0}.json\".format(model_no)))\n",
    "\n",
    "tsne_callback = TSNERecorderCallback(\n",
    "    val_loader=dataloaders['val'],  # Your validation DataLoader\n",
    "    device=device,\n",
    "    save_path=GOOGLE_DRIVE_PATH + \"/logs/rna_seq/tsne_results_{0}.pkl\".format(model_no)  # Matches your plot_tsne() default\n",
    ")\n",
    "\n",
    "\n",
    "\n",
    "trainer_cb = CallbackTrainer(\n",
    "    model=singleomics_model,\n",
    "    optimizer=torch.optim.AdamW(singleomics_model.parameters(), lr=2e-4, weight_decay=0.0001),\n",
    "    loss_fn=loss_fn,\n",
    "    device=device,\n",
    "    callbacks=[loss_callback, tsne_callback, acc_callback],\n",
    "    seed=42\n",
    ")\n",
    "\n",
    "trainer_cb.fit(train_loader=dataloaders['train'], val_loader=dataloaders['val'], epochs=50)"
   ],
   "outputs": []
  },
  {
   "cell_type": "code",
   "execution_count": 27,
   "id": "I86c6oJaMDOJ",
   "metadata": {
    "colab": {
     "base_uri": "https://localhost:8080/"
    },
    "id": "I86c6oJaMDOJ",
    "outputId": "f2bb2fdc-0448-4dcd-e669-e89c25d35d90"
   },
   "source": [
    "from utils import set_seed\n",
    "set_seed(42)\n",
    "preds, targets = trainer_cb.predict(dataloaders[\"test\"])\n",
    "acc = accuracy_score(targets.numpy(), preds.numpy())\n",
    "print(f\"✅ Test Accuracy: {acc:.4f}\")\n",
    "\n",
    "print(classification_report(targets.numpy(), preds.numpy()))\n",
    "params = get_training_parameters(trainer_cb)\n",
    "\n",
    "print(json.dumps(params, indent=4))"
   ],
   "outputs": []
  },
  {
   "cell_type": "code",
   "execution_count": 28,
   "id": "UOO8tiQ1MLSQ",
   "metadata": {
    "colab": {
     "base_uri": "https://localhost:8080/"
    },
    "id": "UOO8tiQ1MLSQ",
    "outputId": "58499032-8dec-4970-92c3-30f869831f61"
   },
   "source": [
    "import numpy as np\n",
    "from sklearn.metrics import accuracy_score\n",
    "from utils import set_seed\n",
    "import torch\n",
    "\n",
    "def evaluate_multiple_seeds(trainer, test_loader, seeds=100):\n",
    "    accs = []\n",
    "\n",
    "    for seed in np.random.randint(0, 10_000, size=seeds):\n",
    "        set_seed(int(seed))  # Reset seed\n",
    "        preds, targets = trainer.predict(test_loader)\n",
    "        acc = accuracy_score(targets.numpy(), preds.numpy())\n",
    "        accs.append(acc)\n",
    "\n",
    "    accs = np.array(accs)\n",
    "    print(f\"\\n✅ Avg Accuracy over {seeds} seeds: {accs.mean():.4f} ± {accs.std():.4f}\")\n",
    "    return accs\n",
    "accs = evaluate_multiple_seeds(trainer_cb, dataloaders[\"test\"], seeds=100)"
   ],
   "outputs": []
  },
  {
   "cell_type": "code",
   "execution_count": 29,
   "id": "SL5tnEwPMMeV",
   "metadata": {
    "colab": {
     "base_uri": "https://localhost:8080/",
     "height": 507
    },
    "id": "SL5tnEwPMMeV",
    "outputId": "122a115a-b22d-46a4-f23f-922d9e5672e3"
   },
   "source": [
    "import matplotlib.pyplot as plt\n",
    "import numpy as np\n",
    "\n",
    "def plot_accuracy_distribution(accs, bins=10, title=\"Accuracy Distribution Across Seeds\"):\n",
    "    plt.figure(figsize=(8, 5))\n",
    "    plt.hist(accs, bins=bins, color=\"skyblue\", edgecolor=\"black\", alpha=0.8)\n",
    "    plt.axvline(np.mean(accs), color='red', linestyle='--', label=f\"Mean = {np.mean(accs):.4f}\")\n",
    "    plt.axvline(np.median(accs), color='green', linestyle=':', label=f\"Median = {np.median(accs):.4f}\")\n",
    "\n",
    "    plt.title(title)\n",
    "    plt.xlabel(\"Accuracy\")\n",
    "    plt.ylabel(\"Frequency\")\n",
    "    plt.legend()\n",
    "    plt.grid(True)\n",
    "    plt.tight_layout()\n",
    "    plt.show()\n",
    "plot_accuracy_distribution(accs)"
   ],
   "outputs": []
  },
  {
   "cell_type": "code",
   "execution_count": 30,
   "id": "Xewk9mKUMOp1",
   "metadata": {
    "colab": {
     "base_uri": "https://localhost:8080/",
     "height": 407
    },
    "id": "Xewk9mKUMOp1",
    "outputId": "754a0b55-303d-418b-fabd-9106723a3eb5"
   },
   "source": [
    "plot_loss(loss_path=GOOGLE_DRIVE_PATH + \"/logs/rna_seq/loss_history_{0}.json\".format(model_no), figsize=(6, 4))"
   ],
   "outputs": []
  },
  {
   "cell_type": "code",
   "execution_count": 31,
   "id": "w-PQdSE5MR6Y",
   "metadata": {
    "colab": {
     "base_uri": "https://localhost:8080/",
     "height": 407
    },
    "id": "w-PQdSE5MR6Y",
    "outputId": "4b69151a-834b-41ac-ef5e-0d1a8ebe4f6f"
   },
   "source": [
    "from utils import plot_accuracy\n",
    "plot_accuracy(GOOGLE_DRIVE_PATH + \"/logs/rna_seq/accuracy_history_{0}.json\".format(model_no), figsize=(6, 4))"
   ],
   "outputs": []
  },
  {
   "cell_type": "code",
   "execution_count": 32,
   "id": "B3omSw6CMVF3",
   "metadata": {
    "colab": {
     "base_uri": "https://localhost:8080/",
     "height": 483
    },
    "id": "B3omSw6CMVF3",
    "outputId": "1352d677-6181-4996-f330-0eebdac18bed"
   },
   "source": [
    "plot_tsne(tsne_path=GOOGLE_DRIVE_PATH + \"/logs/rna_seq/tsne_results_{0}.pkl\".format(model_no), epochs=[1, 10, 20, 15, 30, 40, 45, 50], cols=4, figsize=(4, 3))"
   ],
   "outputs": []
  },
  {
   "cell_type": "code",
   "execution_count": 33,
   "id": "a3f9d8b2-8993-4d79-9bd6-e8c1f5218978",
   "metadata": {
    "colab": {
     "base_uri": "https://localhost:8080/"
    },
    "id": "a3f9d8b2-8993-4d79-9bd6-e8c1f5218978",
    "outputId": "058ea4d4-ee3e-4d57-f17d-67621fed8ed6"
   },
   "source": [
    "preds, targets = trainer_cb.predict(dataloaders[\"test\"])\n",
    "acc = accuracy_score(targets.numpy(), preds.numpy())\n",
    "print(f\"✅ Test Accuracy: {acc:.4f}\")\n",
    "\n",
    "print(classification_report(targets.numpy(), preds.numpy()))\n",
    "params = get_training_parameters(trainer_cb)\n",
    "\n",
    "print(json.dumps(params, indent=4))"
   ],
   "outputs": []
  },
  {
   "cell_type": "code",
   "execution_count": 34,
   "id": "DYO8j9JsMfyk",
   "metadata": {
    "colab": {
     "base_uri": "https://localhost:8080/",
     "height": 483
    },
    "id": "DYO8j9JsMfyk",
    "outputId": "15a2d856-537e-4d51-9a76-1bb42deffb69"
   },
   "source": [
    "plot_tsne(tsne_path=GOOGLE_DRIVE_PATH + \"/logs/rna_seq/tsne_results_{0}.pkl\".format(model_no), epochs=[1, 5, 10, 15, 20, 25, 30], cols=4, figsize=(4, 3))"
   ],
   "outputs": []
  },
  {
   "cell_type": "code",
   "execution_count": 35,
   "id": "Xoo8vsL-MkdJ",
   "metadata": {
    "colab": {
     "base_uri": "https://localhost:8080/",
     "height": 407
    },
    "id": "Xoo8vsL-MkdJ",
    "outputId": "5d6bbace-e9bb-4025-d709-5b0384712b65"
   },
   "source": [
    "plot_loss(loss_path=GOOGLE_DRIVE_PATH + \"/logs/rna_seq/loss_history_{0}.json\".format(model_no), figsize=(6, 4))"
   ],
   "outputs": []
  },
  {
   "cell_type": "code",
   "execution_count": 36,
   "id": "d5Nv1wr2Mnpo",
   "metadata": {
    "colab": {
     "base_uri": "https://localhost:8080/"
    },
    "id": "d5Nv1wr2Mnpo",
    "outputId": "3721385e-c215-4bb8-b047-44e71e4101d2"
   },
   "source": [
    "preds, targets, logits = trainer_cb.predict(dataloaders[\"test\"], return_logits=True)"
   ],
   "outputs": []
  },
  {
   "cell_type": "code",
   "execution_count": 37,
   "id": "514954ef-63c6-445b-8157-4cda595f1606",
   "metadata": {
    "colab": {
     "base_uri": "https://localhost:8080/"
    },
    "id": "514954ef-63c6-445b-8157-4cda595f1606",
    "outputId": "48041af5-bd70-40e0-afca-646e1ce7880b"
   },
   "source": [
    "import torch.nn.functional as F\n",
    "probs = F.softmax(logits, dim=1)\n",
    "predictions = torch.argmax(probs, dim=1)\n",
    "\n",
    "predictions"
   ],
   "outputs": []
  },
  {
   "cell_type": "code",
   "execution_count": 38,
   "id": "SnDNObicMvfL",
   "metadata": {
    "colab": {
     "base_uri": "https://localhost:8080/"
    },
    "id": "SnDNObicMvfL",
    "outputId": "ccbd7898-659d-4dcc-bbf5-47cf445473e2"
   },
   "source": [
    "model_no = 3\n",
    "loss_fn = RNASeqLoss(\n",
    "    beta=0.1,               # Target KL weight\n",
    "    # annealing_steps=5000,   # Total steps to anneal over\n",
    "    use_focal=True,\n",
    "    focal_gamma=2.5,\n",
    "    label_smoothing=0,\n",
    "    class_weights=torch.tensor([1.0, 1.0, 1.0, 1.5, 2.5], device=device) # or torch.tensor([...], device=\"cuda\")\n",
    ")\n",
    "\n",
    "rna_exp_dim = 13054\n",
    "latent_dim = 64\n",
    "num_classes = 5\n",
    "\n",
    "# Instantiate model\n",
    "singleomics_model = SingleOmicsClassifier(\n",
    "    rna_exp_dim=rna_exp_dim,\n",
    "    latent_dim=latent_dim,\n",
    "    num_classes=num_classes\n",
    ")\n",
    "\n",
    "\n",
    "\n",
    "\n",
    "loss_callback = LossRecorderCallback(save_path=GOOGLE_DRIVE_PATH + \"/logs/rna_seq/loss_history_{0}.json\".format(model_no))\n",
    "acc_callback = AccuracyRecorderCallback(save_path=Path(GOOGLE_DRIVE_PATH + \"/logs/rna_seq/accuracy_history_{0}.json\".format(model_no)))\n",
    "tsne_callback = TSNERecorderCallback(\n",
    "    val_loader=dataloaders['val'],  # Your validation DataLoader\n",
    "    device=device,\n",
    "    save_path=GOOGLE_DRIVE_PATH + \"/logs/rna_seq/tsne_results_{0}.pkl\".format(model_no)  # Matches your plot_tsne() default\n",
    ")\n",
    "attn_cb = AttentionLoggerCallback(save_path=GOOGLE_DRIVE_PATH + \"/logs/rna_seq/attention_weights_{0}.pkl\".format(model_no), modality_names=[\"rna\"])\n",
    "\n",
    "\n",
    "\n",
    "\n",
    "trainer_cb = CallbackTrainer(\n",
    "    model=singleomics_model,\n",
    "    optimizer=torch.optim.AdamW(singleomics_model.parameters(), lr=5e-4, weight_decay=1e-4),\n",
    "    loss_fn=loss_fn,\n",
    "    device=device,\n",
    "    callbacks=[loss_callback, tsne_callback, acc_callback, attn_cb],\n",
    "    seed=42\n",
    ")\n",
    "\n",
    "trainer_cb.fit(train_loader=dataloaders['train'], val_loader=dataloaders['val'], epochs=60)"
   ],
   "outputs": []
  },
  {
   "cell_type": "code",
   "execution_count": 39,
   "id": "XfVkDcNFM1XL",
   "metadata": {
    "colab": {
     "base_uri": "https://localhost:8080/"
    },
    "id": "XfVkDcNFM1XL",
    "outputId": "231a18cb-af9f-4c78-99d9-4a487a21e10f"
   },
   "source": [
    "from utils import set_seed\n",
    "set_seed(42)\n",
    "preds, targets = trainer_cb.predict(dataloaders[\"test\"])\n",
    "acc = accuracy_score(targets.numpy(), preds.numpy())\n",
    "print(f\"✅ Test Accuracy: {acc:.4f}\")\n",
    "\n",
    "print(classification_report(targets.numpy(), preds.numpy()))\n",
    "params = get_training_parameters(trainer_cb)\n",
    "\n",
    "print(json.dumps(params, indent=4))"
   ],
   "outputs": []
  },
  {
   "cell_type": "code",
   "execution_count": 40,
   "id": "yeIS1X_XM60M",
   "metadata": {
    "colab": {
     "base_uri": "https://localhost:8080/",
     "height": 407
    },
    "id": "yeIS1X_XM60M",
    "outputId": "b104eadf-c9ba-48f8-d5dc-f6c4b5ab2933"
   },
   "source": [
    "plot_loss(loss_path=GOOGLE_DRIVE_PATH + \"/logs/rna_seq/loss_history_{0}.json\".format(model_no), figsize=(6, 4))"
   ],
   "outputs": []
  },
  {
   "cell_type": "code",
   "execution_count": 41,
   "id": "PqtYvx7PM7y2",
   "metadata": {
    "colab": {
     "base_uri": "https://localhost:8080/",
     "height": 719
    },
    "id": "PqtYvx7PM7y2",
    "outputId": "77bf150c-4aa7-4477-b024-009a524bc0c6"
   },
   "source": [
    "plot_tsne(tsne_path=GOOGLE_DRIVE_PATH + \"/logs/rna_seq/tsne_results_{0}.pkl\".format(model_no), epochs=[1, 5, 10, 15, 20, 25, 30, 40,45, 50, 60], cols=4, figsize=(4, 3))"
   ],
   "outputs": []
  },
  {
   "cell_type": "code",
   "execution_count": 42,
   "id": "Kb1PrV5UNA4Z",
   "metadata": {
    "colab": {
     "base_uri": "https://localhost:8080/",
     "height": 452
    },
    "id": "Kb1PrV5UNA4Z",
    "outputId": "0bd8dc1f-7f8b-432e-af07-bab6dcdc11fb"
   },
   "source": [
    "import pickle\n",
    "import matplotlib.pyplot as plt\n",
    "import seaborn as sns\n",
    "\n",
    "with open(GOOGLE_DRIVE_PATH + \"/logs/rna_seq/attention_weights_{0}.pkl\".format(model_no), \"rb\") as f:\n",
    "    attention_log = pickle.load(f)\n",
    "\n",
    "# Example: plot head 0 from layer 0 at epoch 50\n",
    "last_epoch = attention_log[-1]\n",
    "weights = last_epoch[\"attn\"][0][0]  # layer 0, head 0\n",
    "labels = [\"RNA\"]\n",
    "sns.heatmap(weights, annot=True, fmt=\".2f\", xticklabels=labels, yticklabels=labels)\n",
    "plt.title(f\"Attention — Layer 0 Head 0 @ Epoch {last_epoch['epoch']}\")\n",
    "plt.show()"
   ],
   "outputs": []
  },
  {
   "cell_type": "code",
   "execution_count": 43,
   "id": "NE_WOOPkNDwY",
   "metadata": {
    "colab": {
     "base_uri": "https://localhost:8080/"
    },
    "id": "NE_WOOPkNDwY",
    "outputId": "8e1a51be-68ef-4ed1-f21e-469591e56b1a"
   },
   "source": [
    "#  Inspect file contents\n",
    "\n",
    "file_npz = GOOGLE_DRIVE_PATH + \"/data/clean_data/multimodal_data_features.npz\"\n",
    "with np.load(file_npz, allow_pickle=True) as data:\n",
    "    print(\"Available keys:\", list(data.keys()))\n",
    "    print(\"RNA features shape:\", data[\"rna_features\"].shape)"
   ],
   "outputs": []
  },
  {
   "cell_type": "code",
   "execution_count": 44,
   "id": "9ryLUy5XNGkF",
   "metadata": {
    "colab": {
     "base_uri": "https://localhost:8080/"
    },
    "id": "9ryLUy5XNGkF",
    "outputId": "b024979b-f2f7-46b2-f85b-a4c12382d300"
   },
   "source": [
    "# Get gene names and class mapping\n",
    "\n",
    "with np.load(file_npz, allow_pickle=True) as data:\n",
    "    gene_names = data[\"rna_features\"]\n",
    "    class_map = data['class_map']\n",
    "\n",
    "gene_names, class_map"
   ],
   "outputs": []
  },
  {
   "cell_type": "code",
   "execution_count": 45,
   "id": "EUj6mqIKNJnh",
   "metadata": {
    "colab": {
     "base_uri": "https://localhost:8080/"
    },
    "id": "EUj6mqIKNJnh",
    "outputId": "c5e65d5d-9652-426c-ce31-a8dab10fb91c"
   },
   "source": [
    "class_map.item()"
   ],
   "outputs": []
  },
  {
   "cell_type": "code",
   "execution_count": 46,
   "id": "n2MXvea9NKc8",
   "metadata": {
    "colab": {
     "base_uri": "https://localhost:8080/"
    },
    "id": "n2MXvea9NKc8",
    "outputId": "9fd4fc0a-e170-45fa-91af-00c38029837f"
   },
   "source": [
    "from utils.interpretability import compute_average_saliency_by_class, plot_saliency_radar\n",
    "import pandas as pd\n",
    "# 1. Your trained model and test dataloader\n",
    "\n",
    "singleomics_model.eval()\n",
    "# device = 'cuda' if torch.cuda.is_available() else 'cpu'\n",
    "singleomics_model.to(device)\n",
    "\n",
    "# 2. Compute average saliency for RNA modality\n",
    "saliency_by_class = compute_average_saliency_by_class(\n",
    "    model=singleomics_model,\n",
    "    dataloader=dataloaders['test'],\n",
    "    modality_key='rna',           # or 'mirna', 'methyl'\n",
    "    max_per_class=50,\n",
    "    device=device\n",
    ")"
   ],
   "outputs": []
  },
  {
   "cell_type": "code",
   "execution_count": 47,
   "id": "4-8VOAcaNOd5",
   "metadata": {
    "colab": {
     "base_uri": "https://localhost:8080/",
     "height": 423
    },
    "id": "4-8VOAcaNOd5",
    "outputId": "d6a92ac2-143a-43d6-cf26-42bcdc67e831"
   },
   "source": [
    "id_to_type = {v:k for k, v in class_map.item().items()}\n",
    "df_saliency_by_class = pd.DataFrame(saliency_by_class, index=gene_names).rename(columns=id_to_type)\n",
    "df_saliency_by_class"
   ],
   "outputs": []
  },
  {
   "cell_type": "code",
   "execution_count": 48,
   "id": "oYYK35ozNQxf",
   "metadata": {
    "id": "oYYK35ozNQxf"
   },
   "source": [
    "top5_by_class = {cls: df_saliency_by_class[cls].nlargest(5).index.tolist()\n",
    "                 for cls in df_saliency_by_class.columns}\n",
    "\n",
    "bottom5_by_class = {cls: df_saliency_by_class[cls].nsmallest(5).index.tolist()\n",
    "                    for cls in df_saliency_by_class.columns}"
   ],
   "outputs": []
  },
  {
   "cell_type": "code",
   "execution_count": 49,
   "id": "xcqqiuLNNcS0",
   "metadata": {
    "colab": {
     "base_uri": "https://localhost:8080/"
    },
    "id": "xcqqiuLNNcS0",
    "outputId": "cbbb64f5-a0f7-45e9-c9f1-0d7681740677"
   },
   "source": [
    "top5_by_class"
   ],
   "outputs": []
  },
  {
   "cell_type": "code",
   "execution_count": 50,
   "id": "-2UOwFKNNddf",
   "metadata": {
    "id": "-2UOwFKNNddf"
   },
   "source": [
    "# Extract top and bottom 5 genes per class\n",
    "summary_table = []\n",
    "\n",
    "for cls in df_saliency_by_class.columns:\n",
    "    top_genes = df_saliency_by_class[cls].nlargest(5).index.tolist()\n",
    "    bottom_genes = df_saliency_by_class[cls].nsmallest(5).index.tolist()\n",
    "\n",
    "    top_genes = [g.split(\"|\")[0] for g in top_genes]\n",
    "    bottom_genes = [g.split(\"|\")[0] for g in bottom_genes]\n",
    "\n",
    "    summary_table.append({\n",
    "        \"Subtype\": cls,\n",
    "        \"Top 5 Genes\": \", \".join(top_genes),\n",
    "        \"Bottom 5 Genes\": \", \".join(bottom_genes)\n",
    "    })\n",
    "\n",
    "df_summary = pd.DataFrame(summary_table)"
   ],
   "outputs": []
  },
  {
   "cell_type": "code",
   "execution_count": 51,
   "id": "5PlzUx7fNiu5",
   "metadata": {
    "colab": {
     "base_uri": "https://localhost:8080/",
     "height": 206
    },
    "id": "5PlzUx7fNiu5",
    "outputId": "ed01ce9f-2bed-4681-c0cb-c6ba9cef13bb"
   },
   "source": [
    "df_summary"
   ],
   "outputs": []
  },
  {
   "cell_type": "code",
   "execution_count": 52,
   "id": "PT5bVuiENkFb",
   "metadata": {
    "colab": {
     "base_uri": "https://localhost:8080/",
     "height": 239
    },
    "id": "PT5bVuiENkFb",
    "outputId": "b7dfc979-2257-4d3b-e5eb-4dcb8b098337"
   },
   "source": [
    "# Apply styling with renamed headers\n",
    "\n",
    "display_df = df_summary.rename(columns={\n",
    "    \"Top 5 Genes\": \"Most Contributing Genes\",\n",
    "    \"Bottom 5 Genes\": \"Least Contributing Genes\"\n",
    "})\n",
    "\n",
    "styled_table = (\n",
    "    display_df.style\n",
    "    .set_table_styles([\n",
    "        # 1. Top border\n",
    "        {\"selector\": \"\", \"props\": [(\"border-top\", \"2px solid black !important\")]},\n",
    "        # 2. Header bottom border\n",
    "        {\"selector\": \"thead th\", \"props\": [(\"border-bottom\", \"1px solid black !important\")]},\n",
    "        # 3. Bottom border\n",
    "        {\"selector\": \"\", \"props\": [(\"border-bottom\", \"2px solid black !important\")]},\n",
    "        # Cell formatting\n",
    "        {\"selector\": \"th, td\", \"props\": [\n",
    "            (\"padding\", \"8px\"),\n",
    "            (\"text-align\", \"left\"),\n",
    "            (\"border\", \"none !important\")\n",
    "        ]}\n",
    "    ])\n",
    "    .hide(axis=\"index\")\n",
    "    .set_caption(\"Most and Least Contributory Genes for Breast Cancer Subtype Prediction\")\n",
    "    .set_properties(**{'border-collapse': 'collapse'})\n",
    "    # Rename columns for display only\n",
    "    .set_table_styles([\n",
    "        {\"selector\": \"th.col_heading.level0\", \"props\": [(\"font-weight\", \"bold\")]},\n",
    "    ], overwrite=False)\n",
    ")\n",
    "\n",
    "# Rename headers in the display (without changing DataFrame)\n",
    "\n",
    "\n",
    "# Display in Jupyter\n",
    "display(styled_table)"
   ],
   "outputs": []
  },
  {
   "cell_type": "code",
   "execution_count": 53,
   "id": "PoF8OkIFNqXF",
   "metadata": {
    "colab": {
     "base_uri": "https://localhost:8080/",
     "height": 607
    },
    "id": "PoF8OkIFNqXF",
    "outputId": "455a7c30-8ce2-4255-8021-ace899bf6509"
   },
   "source": [
    "# Check the most\n",
    "\n",
    "plot_saliency_radar(\n",
    "    class_saliency=saliency_by_class,\n",
    "    top_n=10,  # or 15\n",
    "    gene_names=[gene.split(\"|\")[0] for gene in gene_names],\n",
    "    id_to_type={v:k for k, v in class_map.item().items()},\n",
    "    ncol=3, figsize=(10, 10)\n",
    ")"
   ],
   "outputs": []
  }
 ],
 "metadata": {
  "accelerator": "GPU",
  "colab": {
   "gpuType": "T4",
   "provenance": []
  },
  "kernelspec": {
   "display_name": "project_model_code_collection",
   "language": "python",
   "name": "project_model_code_collection"
  },
  "language_info": {
   "codemirror_mode": {
    "name": "ipython",
    "version": 3
   },
   "file_extension": ".py",
   "mimetype": "text/x-python",
   "name": "python",
   "nbconvert_exporter": "python",
   "pygments_lexer": "ipython3",
   "version": "3.11.7"
  }
 },
 "nbformat": 4,
 "nbformat_minor": 5
}
